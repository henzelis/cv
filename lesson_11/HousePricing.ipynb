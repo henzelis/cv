{
 "cells": [
  {
   "cell_type": "markdown",
   "metadata": {},
   "source": [
    "### Introduction to Neural Network Using Tensorflow Keras\n",
    "\n",
    "In this notebook we are going to implement our first neural network using Tensorflow (Keras). We will apply the network to the classic house pricing problem."
   ]
  },
  {
   "cell_type": "code",
   "execution_count": 1,
   "metadata": {},
   "outputs": [],
   "source": [
    "import cv2\n",
    "import numpy as np\n",
    "import pandas as pd\n",
    "from sklearn.preprocessing import StandardScaler\n",
    "from sklearn.model_selection import train_test_split\n",
    "from matplotlib import pyplot as plt\n",
    "plt.rcParams['figure.figsize'] = [15, 10]"
   ]
  },
  {
   "cell_type": "markdown",
   "metadata": {},
   "source": [
    "For reproducibility reasons, we will set the seeds of the random number generators that are internally used throughout the notebook. This way we make sure that different runs of this notebook will always produce the same results. This is helpful if we want to evaluate the effect of a change that we have introduced, i.e., to compare the performance before and after the implementation of the change."
   ]
  },
  {
   "cell_type": "code",
   "execution_count": 2,
   "metadata": {},
   "outputs": [],
   "source": [
    "from numpy.random import seed\n",
    "from tensorflow.random import set_seed\n",
    "seed_value = 1234578790\n",
    "seed(seed_value)\n",
    "set_seed(seed_value)"
   ]
  },
  {
   "cell_type": "markdown",
   "metadata": {},
   "source": [
    "### The Classic House Pricing Problem\n",
    "\n",
    "This classic task consists of estimating the price of a house (USA) based on the available description and attributes, i.e., the living area, number of bathrooms, construction year, etc. You can download the dataset from [here](https://www.kaggle.com/c/house-prices-advanced-regression-techniques/data).\n",
    "\n",
    "The dataset is stored in a comma separated file (csv). Let's load the dataset (the train split) and briefly explore it."
   ]
  },
  {
   "cell_type": "code",
   "execution_count": 3,
   "metadata": {},
   "outputs": [],
   "source": [
    "dataset = pd.read_csv('./homework/train.csv')"
   ]
  },
  {
   "cell_type": "markdown",
   "metadata": {},
   "source": [
    "Let's print the loaded data. We'll see that each row corresponds to a sample (i.e., a particular house) and each column represents a certain attribute. There are 80 attributes in total (including the price). In this exercise, we will use a subset of them."
   ]
  },
  {
   "cell_type": "code",
   "execution_count": 4,
   "metadata": {
    "scrolled": true
   },
   "outputs": [
    {
     "data": {
      "text/html": [
       "<div>\n",
       "<style scoped>\n",
       "    .dataframe tbody tr th:only-of-type {\n",
       "        vertical-align: middle;\n",
       "    }\n",
       "\n",
       "    .dataframe tbody tr th {\n",
       "        vertical-align: top;\n",
       "    }\n",
       "\n",
       "    .dataframe thead th {\n",
       "        text-align: right;\n",
       "    }\n",
       "</style>\n",
       "<table border=\"1\" class=\"dataframe\">\n",
       "  <thead>\n",
       "    <tr style=\"text-align: right;\">\n",
       "      <th></th>\n",
       "      <th>Id</th>\n",
       "      <th>MSSubClass</th>\n",
       "      <th>MSZoning</th>\n",
       "      <th>LotFrontage</th>\n",
       "      <th>LotArea</th>\n",
       "      <th>Street</th>\n",
       "      <th>Alley</th>\n",
       "      <th>LotShape</th>\n",
       "      <th>LandContour</th>\n",
       "      <th>Utilities</th>\n",
       "      <th>...</th>\n",
       "      <th>PoolArea</th>\n",
       "      <th>PoolQC</th>\n",
       "      <th>Fence</th>\n",
       "      <th>MiscFeature</th>\n",
       "      <th>MiscVal</th>\n",
       "      <th>MoSold</th>\n",
       "      <th>YrSold</th>\n",
       "      <th>SaleType</th>\n",
       "      <th>SaleCondition</th>\n",
       "      <th>SalePrice</th>\n",
       "    </tr>\n",
       "  </thead>\n",
       "  <tbody>\n",
       "    <tr>\n",
       "      <th>0</th>\n",
       "      <td>1</td>\n",
       "      <td>60</td>\n",
       "      <td>RL</td>\n",
       "      <td>65.0</td>\n",
       "      <td>8450</td>\n",
       "      <td>Pave</td>\n",
       "      <td>NaN</td>\n",
       "      <td>Reg</td>\n",
       "      <td>Lvl</td>\n",
       "      <td>AllPub</td>\n",
       "      <td>...</td>\n",
       "      <td>0</td>\n",
       "      <td>NaN</td>\n",
       "      <td>NaN</td>\n",
       "      <td>NaN</td>\n",
       "      <td>0</td>\n",
       "      <td>2</td>\n",
       "      <td>2008</td>\n",
       "      <td>WD</td>\n",
       "      <td>Normal</td>\n",
       "      <td>208500</td>\n",
       "    </tr>\n",
       "    <tr>\n",
       "      <th>1</th>\n",
       "      <td>2</td>\n",
       "      <td>20</td>\n",
       "      <td>RL</td>\n",
       "      <td>80.0</td>\n",
       "      <td>9600</td>\n",
       "      <td>Pave</td>\n",
       "      <td>NaN</td>\n",
       "      <td>Reg</td>\n",
       "      <td>Lvl</td>\n",
       "      <td>AllPub</td>\n",
       "      <td>...</td>\n",
       "      <td>0</td>\n",
       "      <td>NaN</td>\n",
       "      <td>NaN</td>\n",
       "      <td>NaN</td>\n",
       "      <td>0</td>\n",
       "      <td>5</td>\n",
       "      <td>2007</td>\n",
       "      <td>WD</td>\n",
       "      <td>Normal</td>\n",
       "      <td>181500</td>\n",
       "    </tr>\n",
       "    <tr>\n",
       "      <th>2</th>\n",
       "      <td>3</td>\n",
       "      <td>60</td>\n",
       "      <td>RL</td>\n",
       "      <td>68.0</td>\n",
       "      <td>11250</td>\n",
       "      <td>Pave</td>\n",
       "      <td>NaN</td>\n",
       "      <td>IR1</td>\n",
       "      <td>Lvl</td>\n",
       "      <td>AllPub</td>\n",
       "      <td>...</td>\n",
       "      <td>0</td>\n",
       "      <td>NaN</td>\n",
       "      <td>NaN</td>\n",
       "      <td>NaN</td>\n",
       "      <td>0</td>\n",
       "      <td>9</td>\n",
       "      <td>2008</td>\n",
       "      <td>WD</td>\n",
       "      <td>Normal</td>\n",
       "      <td>223500</td>\n",
       "    </tr>\n",
       "    <tr>\n",
       "      <th>3</th>\n",
       "      <td>4</td>\n",
       "      <td>70</td>\n",
       "      <td>RL</td>\n",
       "      <td>60.0</td>\n",
       "      <td>9550</td>\n",
       "      <td>Pave</td>\n",
       "      <td>NaN</td>\n",
       "      <td>IR1</td>\n",
       "      <td>Lvl</td>\n",
       "      <td>AllPub</td>\n",
       "      <td>...</td>\n",
       "      <td>0</td>\n",
       "      <td>NaN</td>\n",
       "      <td>NaN</td>\n",
       "      <td>NaN</td>\n",
       "      <td>0</td>\n",
       "      <td>2</td>\n",
       "      <td>2006</td>\n",
       "      <td>WD</td>\n",
       "      <td>Abnorml</td>\n",
       "      <td>140000</td>\n",
       "    </tr>\n",
       "    <tr>\n",
       "      <th>4</th>\n",
       "      <td>5</td>\n",
       "      <td>60</td>\n",
       "      <td>RL</td>\n",
       "      <td>84.0</td>\n",
       "      <td>14260</td>\n",
       "      <td>Pave</td>\n",
       "      <td>NaN</td>\n",
       "      <td>IR1</td>\n",
       "      <td>Lvl</td>\n",
       "      <td>AllPub</td>\n",
       "      <td>...</td>\n",
       "      <td>0</td>\n",
       "      <td>NaN</td>\n",
       "      <td>NaN</td>\n",
       "      <td>NaN</td>\n",
       "      <td>0</td>\n",
       "      <td>12</td>\n",
       "      <td>2008</td>\n",
       "      <td>WD</td>\n",
       "      <td>Normal</td>\n",
       "      <td>250000</td>\n",
       "    </tr>\n",
       "    <tr>\n",
       "      <th>...</th>\n",
       "      <td>...</td>\n",
       "      <td>...</td>\n",
       "      <td>...</td>\n",
       "      <td>...</td>\n",
       "      <td>...</td>\n",
       "      <td>...</td>\n",
       "      <td>...</td>\n",
       "      <td>...</td>\n",
       "      <td>...</td>\n",
       "      <td>...</td>\n",
       "      <td>...</td>\n",
       "      <td>...</td>\n",
       "      <td>...</td>\n",
       "      <td>...</td>\n",
       "      <td>...</td>\n",
       "      <td>...</td>\n",
       "      <td>...</td>\n",
       "      <td>...</td>\n",
       "      <td>...</td>\n",
       "      <td>...</td>\n",
       "      <td>...</td>\n",
       "    </tr>\n",
       "    <tr>\n",
       "      <th>1455</th>\n",
       "      <td>1456</td>\n",
       "      <td>60</td>\n",
       "      <td>RL</td>\n",
       "      <td>62.0</td>\n",
       "      <td>7917</td>\n",
       "      <td>Pave</td>\n",
       "      <td>NaN</td>\n",
       "      <td>Reg</td>\n",
       "      <td>Lvl</td>\n",
       "      <td>AllPub</td>\n",
       "      <td>...</td>\n",
       "      <td>0</td>\n",
       "      <td>NaN</td>\n",
       "      <td>NaN</td>\n",
       "      <td>NaN</td>\n",
       "      <td>0</td>\n",
       "      <td>8</td>\n",
       "      <td>2007</td>\n",
       "      <td>WD</td>\n",
       "      <td>Normal</td>\n",
       "      <td>175000</td>\n",
       "    </tr>\n",
       "    <tr>\n",
       "      <th>1456</th>\n",
       "      <td>1457</td>\n",
       "      <td>20</td>\n",
       "      <td>RL</td>\n",
       "      <td>85.0</td>\n",
       "      <td>13175</td>\n",
       "      <td>Pave</td>\n",
       "      <td>NaN</td>\n",
       "      <td>Reg</td>\n",
       "      <td>Lvl</td>\n",
       "      <td>AllPub</td>\n",
       "      <td>...</td>\n",
       "      <td>0</td>\n",
       "      <td>NaN</td>\n",
       "      <td>MnPrv</td>\n",
       "      <td>NaN</td>\n",
       "      <td>0</td>\n",
       "      <td>2</td>\n",
       "      <td>2010</td>\n",
       "      <td>WD</td>\n",
       "      <td>Normal</td>\n",
       "      <td>210000</td>\n",
       "    </tr>\n",
       "    <tr>\n",
       "      <th>1457</th>\n",
       "      <td>1458</td>\n",
       "      <td>70</td>\n",
       "      <td>RL</td>\n",
       "      <td>66.0</td>\n",
       "      <td>9042</td>\n",
       "      <td>Pave</td>\n",
       "      <td>NaN</td>\n",
       "      <td>Reg</td>\n",
       "      <td>Lvl</td>\n",
       "      <td>AllPub</td>\n",
       "      <td>...</td>\n",
       "      <td>0</td>\n",
       "      <td>NaN</td>\n",
       "      <td>GdPrv</td>\n",
       "      <td>Shed</td>\n",
       "      <td>2500</td>\n",
       "      <td>5</td>\n",
       "      <td>2010</td>\n",
       "      <td>WD</td>\n",
       "      <td>Normal</td>\n",
       "      <td>266500</td>\n",
       "    </tr>\n",
       "    <tr>\n",
       "      <th>1458</th>\n",
       "      <td>1459</td>\n",
       "      <td>20</td>\n",
       "      <td>RL</td>\n",
       "      <td>68.0</td>\n",
       "      <td>9717</td>\n",
       "      <td>Pave</td>\n",
       "      <td>NaN</td>\n",
       "      <td>Reg</td>\n",
       "      <td>Lvl</td>\n",
       "      <td>AllPub</td>\n",
       "      <td>...</td>\n",
       "      <td>0</td>\n",
       "      <td>NaN</td>\n",
       "      <td>NaN</td>\n",
       "      <td>NaN</td>\n",
       "      <td>0</td>\n",
       "      <td>4</td>\n",
       "      <td>2010</td>\n",
       "      <td>WD</td>\n",
       "      <td>Normal</td>\n",
       "      <td>142125</td>\n",
       "    </tr>\n",
       "    <tr>\n",
       "      <th>1459</th>\n",
       "      <td>1460</td>\n",
       "      <td>20</td>\n",
       "      <td>RL</td>\n",
       "      <td>75.0</td>\n",
       "      <td>9937</td>\n",
       "      <td>Pave</td>\n",
       "      <td>NaN</td>\n",
       "      <td>Reg</td>\n",
       "      <td>Lvl</td>\n",
       "      <td>AllPub</td>\n",
       "      <td>...</td>\n",
       "      <td>0</td>\n",
       "      <td>NaN</td>\n",
       "      <td>NaN</td>\n",
       "      <td>NaN</td>\n",
       "      <td>0</td>\n",
       "      <td>6</td>\n",
       "      <td>2008</td>\n",
       "      <td>WD</td>\n",
       "      <td>Normal</td>\n",
       "      <td>147500</td>\n",
       "    </tr>\n",
       "  </tbody>\n",
       "</table>\n",
       "<p>1460 rows × 81 columns</p>\n",
       "</div>"
      ],
      "text/plain": [
       "        Id  MSSubClass MSZoning  LotFrontage  LotArea Street Alley LotShape  \\\n",
       "0        1          60       RL         65.0     8450   Pave   NaN      Reg   \n",
       "1        2          20       RL         80.0     9600   Pave   NaN      Reg   \n",
       "2        3          60       RL         68.0    11250   Pave   NaN      IR1   \n",
       "3        4          70       RL         60.0     9550   Pave   NaN      IR1   \n",
       "4        5          60       RL         84.0    14260   Pave   NaN      IR1   \n",
       "...    ...         ...      ...          ...      ...    ...   ...      ...   \n",
       "1455  1456          60       RL         62.0     7917   Pave   NaN      Reg   \n",
       "1456  1457          20       RL         85.0    13175   Pave   NaN      Reg   \n",
       "1457  1458          70       RL         66.0     9042   Pave   NaN      Reg   \n",
       "1458  1459          20       RL         68.0     9717   Pave   NaN      Reg   \n",
       "1459  1460          20       RL         75.0     9937   Pave   NaN      Reg   \n",
       "\n",
       "     LandContour Utilities  ... PoolArea PoolQC  Fence MiscFeature MiscVal  \\\n",
       "0            Lvl    AllPub  ...        0    NaN    NaN         NaN       0   \n",
       "1            Lvl    AllPub  ...        0    NaN    NaN         NaN       0   \n",
       "2            Lvl    AllPub  ...        0    NaN    NaN         NaN       0   \n",
       "3            Lvl    AllPub  ...        0    NaN    NaN         NaN       0   \n",
       "4            Lvl    AllPub  ...        0    NaN    NaN         NaN       0   \n",
       "...          ...       ...  ...      ...    ...    ...         ...     ...   \n",
       "1455         Lvl    AllPub  ...        0    NaN    NaN         NaN       0   \n",
       "1456         Lvl    AllPub  ...        0    NaN  MnPrv         NaN       0   \n",
       "1457         Lvl    AllPub  ...        0    NaN  GdPrv        Shed    2500   \n",
       "1458         Lvl    AllPub  ...        0    NaN    NaN         NaN       0   \n",
       "1459         Lvl    AllPub  ...        0    NaN    NaN         NaN       0   \n",
       "\n",
       "     MoSold YrSold  SaleType  SaleCondition  SalePrice  \n",
       "0         2   2008        WD         Normal     208500  \n",
       "1         5   2007        WD         Normal     181500  \n",
       "2         9   2008        WD         Normal     223500  \n",
       "3         2   2006        WD        Abnorml     140000  \n",
       "4        12   2008        WD         Normal     250000  \n",
       "...     ...    ...       ...            ...        ...  \n",
       "1455      8   2007        WD         Normal     175000  \n",
       "1456      2   2010        WD         Normal     210000  \n",
       "1457      5   2010        WD         Normal     266500  \n",
       "1458      4   2010        WD         Normal     142125  \n",
       "1459      6   2008        WD         Normal     147500  \n",
       "\n",
       "[1460 rows x 81 columns]"
      ]
     },
     "execution_count": 4,
     "metadata": {},
     "output_type": "execute_result"
    }
   ],
   "source": [
    "dataset"
   ]
  },
  {
   "cell_type": "markdown",
   "metadata": {},
   "source": [
    "Let's now have a quick look on the house prices. The `pandas` module already provides us with a handy function to do this :-)"
   ]
  },
  {
   "cell_type": "code",
   "execution_count": 5,
   "metadata": {
    "scrolled": true
   },
   "outputs": [
    {
     "data": {
      "text/plain": [
       "count      1460.000000\n",
       "mean     180921.195890\n",
       "std       79442.502883\n",
       "min       34900.000000\n",
       "25%      129975.000000\n",
       "50%      163000.000000\n",
       "75%      214000.000000\n",
       "max      755000.000000\n",
       "Name: SalePrice, dtype: float64"
      ]
     },
     "execution_count": 5,
     "metadata": {},
     "output_type": "execute_result"
    }
   ],
   "source": [
    "dataset['SalePrice'].describe()"
   ]
  },
  {
   "cell_type": "markdown",
   "metadata": {},
   "source": [
    "### Training Our First Neural Network\n",
    "\n",
    "#### Data Preparation\n",
    "\n",
    "First, we are going to select the attributes we want to use for predicting the price. We will start very simple, with the living area (in square feet). Note that since not all samples (houses) have all of the attributes filled in, we will fill the missing values by the mean value of the dataset. If the dataset is complete, we don't have to do this."
   ]
  },
  {
   "cell_type": "code",
   "execution_count": 6,
   "metadata": {},
   "outputs": [],
   "source": [
    "features = ['SalePrice', 'GrLivArea']\n",
    "data = dataset[features]\n",
    "\n",
    "# Filling nan with the mean of the column\n",
    "data = data.fillna(data.mean())"
   ]
  },
  {
   "cell_type": "markdown",
   "metadata": {},
   "source": [
    "Our inptus, i.e., the living areaa (in square feet) are usually in the order of 1e3. However, the outputs, i.e. the house prices, are usually in the order of 1e5. This is a huge mismatch in values. Even though the network will learn to cope with this, it is **always** a good idea to bring the inputs (all of them) and the outputs to the same order of magnitude, typically around 0 or 1. Therefore, we are going to **normalize** our data. We will learn more about data normalization in the next lesson."
   ]
  },
  {
   "cell_type": "code",
   "execution_count": 7,
   "metadata": {},
   "outputs": [
    {
     "name": "stderr",
     "output_type": "stream",
     "text": [
      "C:\\Users\\Yegor\\anaconda3\\envs\\cv\\lib\\site-packages\\numpy\\core\\fromnumeric.py:3438: FutureWarning: In a future version, DataFrame.mean(axis=None) will return a scalar mean over the entire DataFrame. To retain the old behavior, use 'frame.mean(axis=0)' or just 'frame.mean()'\n",
      "  return mean(axis=axis, dtype=dtype, out=out, **kwargs)\n"
     ]
    }
   ],
   "source": [
    "# Extract input values (living area) and normalize\n",
    "# The dimensionality of the input data must always be explicit\n",
    "x = data[[features[1]]]\n",
    "mu, sigma = np.mean(x), np.std(x)\n",
    "x = (x - mu)/sigma\n",
    "\n",
    "# Extract output values (prices) and normalize\n",
    "y = data[features[0]].values\n",
    "y = y/100000\n",
    "\n",
    "# Split into 75% for train and 25% for test\n",
    "x_train, x_test, y_train, y_test = train_test_split(x, y, test_size=0.25)"
   ]
  },
  {
   "cell_type": "markdown",
   "metadata": {},
   "source": [
    "#### Building the Network\n",
    "\n",
    "We are going to build our first neural network, a very simple one. For that, we will need to import the necessary modules."
   ]
  },
  {
   "cell_type": "code",
   "execution_count": 8,
   "metadata": {
    "scrolled": true
   },
   "outputs": [],
   "source": [
    "from tensorflow.keras.models import Sequential\n",
    "from tensorflow.keras.layers import Dense, Dropout\n",
    "from tensorflow.keras import metrics"
   ]
  },
  {
   "cell_type": "markdown",
   "metadata": {},
   "source": [
    "Let's build the model using the Sequential API from Tensorflow."
   ]
  },
  {
   "cell_type": "code",
   "execution_count": 9,
   "metadata": {},
   "outputs": [],
   "source": [
    "model = Sequential()\n",
    "model.add(Dense(1, input_dim=x.shape[1], activation='relu'))"
   ]
  },
  {
   "cell_type": "markdown",
   "metadata": {},
   "source": [
    "When a model is built, it creates a computation graph. This graph needs to be compiled before we can start any trainings. In the compilation, we will tell Tensorflow what optimizer to use, what is the loss function and what metrics shall be used for monitoring the training. We can also define the list of callbacks to have further control over the training procedure but this is out of the scope of this lecture."
   ]
  },
  {
   "cell_type": "code",
   "execution_count": 10,
   "metadata": {},
   "outputs": [],
   "source": [
    "model.compile(optimizer ='adam', loss = 'mean_squared_error', metrics =[metrics.mae])"
   ]
  },
  {
   "cell_type": "markdown",
   "metadata": {},
   "source": [
    "Finally , let's visualize the model."
   ]
  },
  {
   "cell_type": "code",
   "execution_count": 11,
   "metadata": {
    "scrolled": true
   },
   "outputs": [
    {
     "name": "stdout",
     "output_type": "stream",
     "text": [
      "Model: \"sequential\"\n",
      "_________________________________________________________________\n",
      "Layer (type)                 Output Shape              Param #   \n",
      "=================================================================\n",
      "dense (Dense)                (None, 1)                 2         \n",
      "=================================================================\n",
      "Total params: 2\n",
      "Trainable params: 2\n",
      "Non-trainable params: 0\n",
      "_________________________________________________________________\n"
     ]
    }
   ],
   "source": [
    "model.summary()"
   ]
  },
  {
   "cell_type": "markdown",
   "metadata": {},
   "source": [
    "This is a simple model with only one neuron. As we know, this neuron has two parameter: weight and bias.\n",
    "\n",
    "#### Training the Network\n",
    "\n",
    "Let's now train the network we have just built. In Keras this is super easy, it is a one line command!"
   ]
  },
  {
   "cell_type": "code",
   "execution_count": 12,
   "metadata": {
    "scrolled": false
   },
   "outputs": [
    {
     "name": "stdout",
     "output_type": "stream",
     "text": [
      "Epoch 1/150\n",
      "35/35 [==============================] - 0s 3ms/step - loss: 2.8475 - mean_absolute_error: 1.5831 - val_loss: 2.9071 - val_mean_absolute_error: 1.5799\n",
      "Epoch 2/150\n",
      "35/35 [==============================] - 0s 743us/step - loss: 2.7524 - mean_absolute_error: 1.5561 - val_loss: 2.8059 - val_mean_absolute_error: 1.5525\n",
      "Epoch 3/150\n",
      "35/35 [==============================] - 0s 743us/step - loss: 2.6600 - mean_absolute_error: 1.5290 - val_loss: 2.7074 - val_mean_absolute_error: 1.5251\n",
      "Epoch 4/150\n",
      "35/35 [==============================] - 0s 657us/step - loss: 2.5699 - mean_absolute_error: 1.5027 - val_loss: 2.6138 - val_mean_absolute_error: 1.4981\n",
      "Epoch 5/150\n",
      "35/35 [==============================] - 0s 686us/step - loss: 2.4831 - mean_absolute_error: 1.4756 - val_loss: 2.5199 - val_mean_absolute_error: 1.4701\n",
      "Epoch 6/150\n",
      "35/35 [==============================] - 0s 657us/step - loss: 2.3995 - mean_absolute_error: 1.4488 - val_loss: 2.4298 - val_mean_absolute_error: 1.4423\n",
      "Epoch 7/150\n",
      "35/35 [==============================] - 0s 665us/step - loss: 2.3190 - mean_absolute_error: 1.4232 - val_loss: 2.3451 - val_mean_absolute_error: 1.4153\n",
      "Epoch 8/150\n",
      "35/35 [==============================] - 0s 686us/step - loss: 2.2426 - mean_absolute_error: 1.3978 - val_loss: 2.2637 - val_mean_absolute_error: 1.3887\n",
      "Epoch 9/150\n",
      "35/35 [==============================] - 0s 634us/step - loss: 2.1678 - mean_absolute_error: 1.3723 - val_loss: 2.1843 - val_mean_absolute_error: 1.3620\n",
      "Epoch 10/150\n",
      "35/35 [==============================] - 0s 655us/step - loss: 2.0975 - mean_absolute_error: 1.3483 - val_loss: 2.1097 - val_mean_absolute_error: 1.3359\n",
      "Epoch 11/150\n",
      "35/35 [==============================] - 0s 686us/step - loss: 2.0301 - mean_absolute_error: 1.3236 - val_loss: 2.0387 - val_mean_absolute_error: 1.3102\n",
      "Epoch 12/150\n",
      "35/35 [==============================] - 0s 715us/step - loss: 1.9695 - mean_absolute_error: 1.3012 - val_loss: 1.9785 - val_mean_absolute_error: 1.2883\n",
      "Epoch 13/150\n",
      "35/35 [==============================] - 0s 708us/step - loss: 1.9094 - mean_absolute_error: 1.2784 - val_loss: 1.9155 - val_mean_absolute_error: 1.2651\n",
      "Epoch 14/150\n",
      "35/35 [==============================] - 0s 665us/step - loss: 1.8509 - mean_absolute_error: 1.2562 - val_loss: 1.8546 - val_mean_absolute_error: 1.2423\n",
      "Epoch 15/150\n",
      "35/35 [==============================] - 0s 715us/step - loss: 1.7945 - mean_absolute_error: 1.2335 - val_loss: 1.7947 - val_mean_absolute_error: 1.2194\n",
      "Epoch 16/150\n",
      "35/35 [==============================] - 0s 657us/step - loss: 1.7388 - mean_absolute_error: 1.2110 - val_loss: 1.7364 - val_mean_absolute_error: 1.1966\n",
      "Epoch 17/150\n",
      "35/35 [==============================] - 0s 723us/step - loss: 1.6852 - mean_absolute_error: 1.1886 - val_loss: 1.6786 - val_mean_absolute_error: 1.1737\n",
      "Epoch 18/150\n",
      "35/35 [==============================] - 0s 681us/step - loss: 1.6333 - mean_absolute_error: 1.1668 - val_loss: 1.6255 - val_mean_absolute_error: 1.1522\n",
      "Epoch 19/150\n",
      "35/35 [==============================] - 0s 639us/step - loss: 1.5840 - mean_absolute_error: 1.1456 - val_loss: 1.5738 - val_mean_absolute_error: 1.1307\n",
      "Epoch 20/150\n",
      "35/35 [==============================] - 0s 713us/step - loss: 1.5358 - mean_absolute_error: 1.1244 - val_loss: 1.5240 - val_mean_absolute_error: 1.1096\n",
      "Epoch 21/150\n",
      "35/35 [==============================] - 0s 658us/step - loss: 1.4889 - mean_absolute_error: 1.1035 - val_loss: 1.4751 - val_mean_absolute_error: 1.0886\n",
      "Epoch 22/150\n",
      "35/35 [==============================] - 0s 687us/step - loss: 1.4421 - mean_absolute_error: 1.0822 - val_loss: 1.4276 - val_mean_absolute_error: 1.0675\n",
      "Epoch 23/150\n",
      "35/35 [==============================] - 0s 743us/step - loss: 1.3957 - mean_absolute_error: 1.0609 - val_loss: 1.3800 - val_mean_absolute_error: 1.0463\n",
      "Epoch 24/150\n",
      "35/35 [==============================] - 0s 714us/step - loss: 1.3493 - mean_absolute_error: 1.0392 - val_loss: 1.3349 - val_mean_absolute_error: 1.0258\n",
      "Epoch 25/150\n",
      "35/35 [==============================] - 0s 686us/step - loss: 1.3030 - mean_absolute_error: 1.0174 - val_loss: 1.2894 - val_mean_absolute_error: 1.0047\n",
      "Epoch 26/150\n",
      "35/35 [==============================] - 0s 629us/step - loss: 1.2561 - mean_absolute_error: 0.9946 - val_loss: 1.2442 - val_mean_absolute_error: 0.9833\n",
      "Epoch 27/150\n",
      "35/35 [==============================] - 0s 715us/step - loss: 1.2096 - mean_absolute_error: 0.9716 - val_loss: 1.1999 - val_mean_absolute_error: 0.9621\n",
      "Epoch 28/150\n",
      "35/35 [==============================] - 0s 714us/step - loss: 1.1638 - mean_absolute_error: 0.9486 - val_loss: 1.1563 - val_mean_absolute_error: 0.9411\n",
      "Epoch 29/150\n",
      "35/35 [==============================] - 0s 629us/step - loss: 1.1179 - mean_absolute_error: 0.9252 - val_loss: 1.1128 - val_mean_absolute_error: 0.9197\n",
      "Epoch 30/150\n",
      "35/35 [==============================] - 0s 686us/step - loss: 1.0716 - mean_absolute_error: 0.9014 - val_loss: 1.0686 - val_mean_absolute_error: 0.8976\n",
      "Epoch 31/150\n",
      "35/35 [==============================] - 0s 686us/step - loss: 1.0256 - mean_absolute_error: 0.8774 - val_loss: 1.0248 - val_mean_absolute_error: 0.8750\n",
      "Epoch 32/150\n",
      "35/35 [==============================] - 0s 661us/step - loss: 0.9797 - mean_absolute_error: 0.8529 - val_loss: 0.9789 - val_mean_absolute_error: 0.8509\n",
      "Epoch 33/150\n",
      "35/35 [==============================] - 0s 691us/step - loss: 0.9319 - mean_absolute_error: 0.8275 - val_loss: 0.9334 - val_mean_absolute_error: 0.8263\n",
      "Epoch 34/150\n",
      "35/35 [==============================] - 0s 714us/step - loss: 0.8822 - mean_absolute_error: 0.8006 - val_loss: 0.8866 - val_mean_absolute_error: 0.8005\n",
      "Epoch 35/150\n",
      "35/35 [==============================] - 0s 657us/step - loss: 0.8330 - mean_absolute_error: 0.7733 - val_loss: 0.8415 - val_mean_absolute_error: 0.7748\n",
      "Epoch 36/150\n",
      "35/35 [==============================] - 0s 818us/step - loss: 0.7839 - mean_absolute_error: 0.7447 - val_loss: 0.7975 - val_mean_absolute_error: 0.7482\n",
      "Epoch 37/150\n",
      "35/35 [==============================] - 0s 627us/step - loss: 0.7397 - mean_absolute_error: 0.7180 - val_loss: 0.7580 - val_mean_absolute_error: 0.7238\n",
      "Epoch 38/150\n",
      "35/35 [==============================] - 0s 645us/step - loss: 0.6997 - mean_absolute_error: 0.6926 - val_loss: 0.7202 - val_mean_absolute_error: 0.6990\n",
      "Epoch 39/150\n",
      "35/35 [==============================] - 0s 680us/step - loss: 0.6622 - mean_absolute_error: 0.6684 - val_loss: 0.6859 - val_mean_absolute_error: 0.6759\n",
      "Epoch 40/150\n",
      "35/35 [==============================] - 0s 686us/step - loss: 0.6285 - mean_absolute_error: 0.6453 - val_loss: 0.6542 - val_mean_absolute_error: 0.6542\n",
      "Epoch 41/150\n",
      "35/35 [==============================] - 0s 629us/step - loss: 0.5974 - mean_absolute_error: 0.6235 - val_loss: 0.6254 - val_mean_absolute_error: 0.6335\n",
      "Epoch 42/150\n",
      "35/35 [==============================] - 0s 627us/step - loss: 0.5688 - mean_absolute_error: 0.6034 - val_loss: 0.5993 - val_mean_absolute_error: 0.6141\n",
      "Epoch 43/150\n",
      "35/35 [==============================] - 0s 701us/step - loss: 0.5416 - mean_absolute_error: 0.5831 - val_loss: 0.5748 - val_mean_absolute_error: 0.5937\n",
      "Epoch 44/150\n",
      "35/35 [==============================] - 0s 686us/step - loss: 0.5181 - mean_absolute_error: 0.5639 - val_loss: 0.5529 - val_mean_absolute_error: 0.5746\n",
      "Epoch 45/150\n",
      "35/35 [==============================] - 0s 629us/step - loss: 0.4958 - mean_absolute_error: 0.5470 - val_loss: 0.5327 - val_mean_absolute_error: 0.5576\n",
      "Epoch 46/150\n",
      "35/35 [==============================] - 0s 715us/step - loss: 0.4766 - mean_absolute_error: 0.5316 - val_loss: 0.5144 - val_mean_absolute_error: 0.5418\n",
      "Epoch 47/150\n",
      "35/35 [==============================] - 0s 655us/step - loss: 0.4589 - mean_absolute_error: 0.5172 - val_loss: 0.4977 - val_mean_absolute_error: 0.5273\n",
      "Epoch 48/150\n",
      "35/35 [==============================] - 0s 638us/step - loss: 0.4430 - mean_absolute_error: 0.5035 - val_loss: 0.4826 - val_mean_absolute_error: 0.5135\n",
      "Epoch 49/150\n",
      "35/35 [==============================] - 0s 713us/step - loss: 0.4282 - mean_absolute_error: 0.4909 - val_loss: 0.4690 - val_mean_absolute_error: 0.5012\n",
      "Epoch 50/150\n"
     ]
    },
    {
     "name": "stdout",
     "output_type": "stream",
     "text": [
      "35/35 [==============================] - 0s 713us/step - loss: 0.4150 - mean_absolute_error: 0.4798 - val_loss: 0.4563 - val_mean_absolute_error: 0.4894\n",
      "Epoch 51/150\n",
      "35/35 [==============================] - 0s 686us/step - loss: 0.4029 - mean_absolute_error: 0.4692 - val_loss: 0.4452 - val_mean_absolute_error: 0.4793\n",
      "Epoch 52/150\n",
      "35/35 [==============================] - 0s 687us/step - loss: 0.3921 - mean_absolute_error: 0.4595 - val_loss: 0.4345 - val_mean_absolute_error: 0.4695\n",
      "Epoch 53/150\n",
      "35/35 [==============================] - 0s 629us/step - loss: 0.3823 - mean_absolute_error: 0.4507 - val_loss: 0.4250 - val_mean_absolute_error: 0.4614\n",
      "Epoch 54/150\n",
      "35/35 [==============================] - 0s 714us/step - loss: 0.3735 - mean_absolute_error: 0.4425 - val_loss: 0.4169 - val_mean_absolute_error: 0.4540\n",
      "Epoch 55/150\n",
      "35/35 [==============================] - 0s 686us/step - loss: 0.3656 - mean_absolute_error: 0.4349 - val_loss: 0.4094 - val_mean_absolute_error: 0.4474\n",
      "Epoch 56/150\n",
      "35/35 [==============================] - 0s 654us/step - loss: 0.3583 - mean_absolute_error: 0.4279 - val_loss: 0.4024 - val_mean_absolute_error: 0.4416\n",
      "Epoch 57/150\n",
      "35/35 [==============================] - 0s 676us/step - loss: 0.3519 - mean_absolute_error: 0.4213 - val_loss: 0.3961 - val_mean_absolute_error: 0.4360\n",
      "Epoch 58/150\n",
      "35/35 [==============================] - 0s 650us/step - loss: 0.3460 - mean_absolute_error: 0.4150 - val_loss: 0.3906 - val_mean_absolute_error: 0.4312\n",
      "Epoch 59/150\n",
      "35/35 [==============================] - 0s 737us/step - loss: 0.3409 - mean_absolute_error: 0.4095 - val_loss: 0.3858 - val_mean_absolute_error: 0.4271\n",
      "Epoch 60/150\n",
      "35/35 [==============================] - 0s 629us/step - loss: 0.3365 - mean_absolute_error: 0.4045 - val_loss: 0.3811 - val_mean_absolute_error: 0.4234\n",
      "Epoch 61/150\n",
      "35/35 [==============================] - 0s 634us/step - loss: 0.3323 - mean_absolute_error: 0.4000 - val_loss: 0.3775 - val_mean_absolute_error: 0.4200\n",
      "Epoch 62/150\n",
      "35/35 [==============================] - 0s 722us/step - loss: 0.3286 - mean_absolute_error: 0.3960 - val_loss: 0.3742 - val_mean_absolute_error: 0.4170\n",
      "Epoch 63/150\n",
      "35/35 [==============================] - 0s 734us/step - loss: 0.3254 - mean_absolute_error: 0.3923 - val_loss: 0.3707 - val_mean_absolute_error: 0.4142\n",
      "Epoch 64/150\n",
      "35/35 [==============================] - 0s 715us/step - loss: 0.3224 - mean_absolute_error: 0.3891 - val_loss: 0.3680 - val_mean_absolute_error: 0.4119\n",
      "Epoch 65/150\n",
      "35/35 [==============================] - 0s 743us/step - loss: 0.3200 - mean_absolute_error: 0.3863 - val_loss: 0.3654 - val_mean_absolute_error: 0.4099\n",
      "Epoch 66/150\n",
      "35/35 [==============================] - 0s 675us/step - loss: 0.3179 - mean_absolute_error: 0.3838 - val_loss: 0.3633 - val_mean_absolute_error: 0.4081\n",
      "Epoch 67/150\n",
      "35/35 [==============================] - 0s 724us/step - loss: 0.3159 - mean_absolute_error: 0.3816 - val_loss: 0.3611 - val_mean_absolute_error: 0.4066\n",
      "Epoch 68/150\n",
      "35/35 [==============================] - 0s 715us/step - loss: 0.3141 - mean_absolute_error: 0.3797 - val_loss: 0.3597 - val_mean_absolute_error: 0.4055\n",
      "Epoch 69/150\n",
      "35/35 [==============================] - 0s 714us/step - loss: 0.3126 - mean_absolute_error: 0.3778 - val_loss: 0.3578 - val_mean_absolute_error: 0.4043\n",
      "Epoch 70/150\n",
      "35/35 [==============================] - 0s 743us/step - loss: 0.3112 - mean_absolute_error: 0.3763 - val_loss: 0.3563 - val_mean_absolute_error: 0.4034\n",
      "Epoch 71/150\n",
      "35/35 [==============================] - 0s 800us/step - loss: 0.3101 - mean_absolute_error: 0.3749 - val_loss: 0.3550 - val_mean_absolute_error: 0.4025\n",
      "Epoch 72/150\n",
      "35/35 [==============================] - 0s 714us/step - loss: 0.3092 - mean_absolute_error: 0.3736 - val_loss: 0.3542 - val_mean_absolute_error: 0.4018\n",
      "Epoch 73/150\n",
      "35/35 [==============================] - 0s 686us/step - loss: 0.3083 - mean_absolute_error: 0.3728 - val_loss: 0.3533 - val_mean_absolute_error: 0.4013\n",
      "Epoch 74/150\n",
      "35/35 [==============================] - 0s 744us/step - loss: 0.3075 - mean_absolute_error: 0.3719 - val_loss: 0.3525 - val_mean_absolute_error: 0.4009\n",
      "Epoch 75/150\n",
      "35/35 [==============================] - 0s 755us/step - loss: 0.3070 - mean_absolute_error: 0.3712 - val_loss: 0.3518 - val_mean_absolute_error: 0.4004\n",
      "Epoch 76/150\n",
      "35/35 [==============================] - 0s 714us/step - loss: 0.3064 - mean_absolute_error: 0.3703 - val_loss: 0.3514 - val_mean_absolute_error: 0.4001\n",
      "Epoch 77/150\n",
      "35/35 [==============================] - 0s 699us/step - loss: 0.3060 - mean_absolute_error: 0.3699 - val_loss: 0.3508 - val_mean_absolute_error: 0.3998\n",
      "Epoch 78/150\n",
      "35/35 [==============================] - 0s 810us/step - loss: 0.3055 - mean_absolute_error: 0.3694 - val_loss: 0.3504 - val_mean_absolute_error: 0.3996\n",
      "Epoch 79/150\n",
      "35/35 [==============================] - 0s 693us/step - loss: 0.3053 - mean_absolute_error: 0.3691 - val_loss: 0.3498 - val_mean_absolute_error: 0.3995\n",
      "Epoch 80/150\n",
      "35/35 [==============================] - 0s 758us/step - loss: 0.3048 - mean_absolute_error: 0.3687 - val_loss: 0.3495 - val_mean_absolute_error: 0.3993\n",
      "Epoch 81/150\n",
      "35/35 [==============================] - 0s 747us/step - loss: 0.3047 - mean_absolute_error: 0.3684 - val_loss: 0.3494 - val_mean_absolute_error: 0.3992\n",
      "Epoch 82/150\n",
      "35/35 [==============================] - 0s 657us/step - loss: 0.3045 - mean_absolute_error: 0.3684 - val_loss: 0.3485 - val_mean_absolute_error: 0.3993\n",
      "Epoch 83/150\n",
      "35/35 [==============================] - 0s 729us/step - loss: 0.3042 - mean_absolute_error: 0.3681 - val_loss: 0.3487 - val_mean_absolute_error: 0.3992\n",
      "Epoch 84/150\n",
      "35/35 [==============================] - 0s 714us/step - loss: 0.3041 - mean_absolute_error: 0.3679 - val_loss: 0.3483 - val_mean_absolute_error: 0.3992\n",
      "Epoch 85/150\n",
      "35/35 [==============================] - 0s 628us/step - loss: 0.3039 - mean_absolute_error: 0.3677 - val_loss: 0.3485 - val_mean_absolute_error: 0.3992\n",
      "Epoch 86/150\n",
      "35/35 [==============================] - 0s 1ms/step - loss: 0.3039 - mean_absolute_error: 0.3676 - val_loss: 0.3478 - val_mean_absolute_error: 0.3993\n",
      "Epoch 87/150\n",
      "35/35 [==============================] - 0s 686us/step - loss: 0.3039 - mean_absolute_error: 0.3675 - val_loss: 0.3478 - val_mean_absolute_error: 0.3993\n",
      "Epoch 88/150\n",
      "35/35 [==============================] - 0s 686us/step - loss: 0.3037 - mean_absolute_error: 0.3673 - val_loss: 0.3480 - val_mean_absolute_error: 0.3993\n",
      "Epoch 89/150\n",
      "35/35 [==============================] - 0s 629us/step - loss: 0.3037 - mean_absolute_error: 0.3672 - val_loss: 0.3479 - val_mean_absolute_error: 0.3994\n",
      "Epoch 90/150\n",
      "35/35 [==============================] - 0s 686us/step - loss: 0.3036 - mean_absolute_error: 0.3673 - val_loss: 0.3476 - val_mean_absolute_error: 0.3994\n",
      "Epoch 91/150\n",
      "35/35 [==============================] - 0s 666us/step - loss: 0.3038 - mean_absolute_error: 0.3672 - val_loss: 0.3480 - val_mean_absolute_error: 0.3994\n",
      "Epoch 92/150\n",
      "35/35 [==============================] - 0s 727us/step - loss: 0.3037 - mean_absolute_error: 0.3672 - val_loss: 0.3479 - val_mean_absolute_error: 0.3995\n",
      "Epoch 93/150\n",
      "35/35 [==============================] - 0s 640us/step - loss: 0.3036 - mean_absolute_error: 0.3672 - val_loss: 0.3478 - val_mean_absolute_error: 0.3995\n",
      "Epoch 94/150\n",
      "35/35 [==============================] - 0s 721us/step - loss: 0.3035 - mean_absolute_error: 0.3672 - val_loss: 0.3477 - val_mean_absolute_error: 0.3995\n",
      "Epoch 95/150\n",
      "35/35 [==============================] - 0s 743us/step - loss: 0.3036 - mean_absolute_error: 0.3673 - val_loss: 0.3475 - val_mean_absolute_error: 0.3996\n",
      "Epoch 96/150\n",
      "35/35 [==============================] - 0s 738us/step - loss: 0.3036 - mean_absolute_error: 0.3673 - val_loss: 0.3474 - val_mean_absolute_error: 0.3997\n",
      "Epoch 97/150\n",
      "35/35 [==============================] - 0s 705us/step - loss: 0.3035 - mean_absolute_error: 0.3673 - val_loss: 0.3478 - val_mean_absolute_error: 0.3996\n",
      "Epoch 98/150\n",
      "35/35 [==============================] - 0s 686us/step - loss: 0.3036 - mean_absolute_error: 0.3672 - val_loss: 0.3475 - val_mean_absolute_error: 0.3997\n",
      "Epoch 99/150\n"
     ]
    },
    {
     "name": "stdout",
     "output_type": "stream",
     "text": [
      "35/35 [==============================] - 0s 714us/step - loss: 0.3036 - mean_absolute_error: 0.3672 - val_loss: 0.3480 - val_mean_absolute_error: 0.3997\n",
      "Epoch 100/150\n",
      "35/35 [==============================] - 0s 636us/step - loss: 0.3036 - mean_absolute_error: 0.3673 - val_loss: 0.3475 - val_mean_absolute_error: 0.3997\n",
      "Epoch 101/150\n",
      "35/35 [==============================] - 0s 686us/step - loss: 0.3035 - mean_absolute_error: 0.3673 - val_loss: 0.3474 - val_mean_absolute_error: 0.3998\n",
      "Epoch 102/150\n",
      "35/35 [==============================] - 0s 686us/step - loss: 0.3036 - mean_absolute_error: 0.3673 - val_loss: 0.3474 - val_mean_absolute_error: 0.3998\n",
      "Epoch 103/150\n",
      "35/35 [==============================] - 0s 743us/step - loss: 0.3036 - mean_absolute_error: 0.3674 - val_loss: 0.3471 - val_mean_absolute_error: 0.3998\n",
      "Epoch 104/150\n",
      "35/35 [==============================] - 0s 634us/step - loss: 0.3037 - mean_absolute_error: 0.3674 - val_loss: 0.3477 - val_mean_absolute_error: 0.3998\n",
      "Epoch 105/150\n",
      "35/35 [==============================] - 0s 692us/step - loss: 0.3035 - mean_absolute_error: 0.3673 - val_loss: 0.3474 - val_mean_absolute_error: 0.3998\n",
      "Epoch 106/150\n",
      "35/35 [==============================] - 0s 733us/step - loss: 0.3035 - mean_absolute_error: 0.3673 - val_loss: 0.3475 - val_mean_absolute_error: 0.3998\n",
      "Epoch 107/150\n",
      "35/35 [==============================] - 0s 629us/step - loss: 0.3035 - mean_absolute_error: 0.3673 - val_loss: 0.3473 - val_mean_absolute_error: 0.3998\n",
      "Epoch 108/150\n",
      "35/35 [==============================] - 0s 686us/step - loss: 0.3037 - mean_absolute_error: 0.3672 - val_loss: 0.3495 - val_mean_absolute_error: 0.3998\n",
      "Epoch 109/150\n",
      "35/35 [==============================] - 0s 686us/step - loss: 0.3037 - mean_absolute_error: 0.3670 - val_loss: 0.3492 - val_mean_absolute_error: 0.3998\n",
      "Epoch 110/150\n",
      "35/35 [==============================] - 0s 686us/step - loss: 0.3036 - mean_absolute_error: 0.3671 - val_loss: 0.3487 - val_mean_absolute_error: 0.3998\n",
      "Epoch 111/150\n",
      "35/35 [==============================] - 0s 714us/step - loss: 0.3037 - mean_absolute_error: 0.3671 - val_loss: 0.3486 - val_mean_absolute_error: 0.3998\n",
      "Epoch 112/150\n",
      "35/35 [==============================] - 0s 657us/step - loss: 0.3035 - mean_absolute_error: 0.3671 - val_loss: 0.3483 - val_mean_absolute_error: 0.3999\n",
      "Epoch 113/150\n",
      "35/35 [==============================] - 0s 772us/step - loss: 0.3035 - mean_absolute_error: 0.3672 - val_loss: 0.3482 - val_mean_absolute_error: 0.3999\n",
      "Epoch 114/150\n",
      "35/35 [==============================] - 0s 714us/step - loss: 0.3037 - mean_absolute_error: 0.3673 - val_loss: 0.3477 - val_mean_absolute_error: 0.4000\n",
      "Epoch 115/150\n",
      "35/35 [==============================] - 0s 644us/step - loss: 0.3037 - mean_absolute_error: 0.3673 - val_loss: 0.3484 - val_mean_absolute_error: 0.3999\n",
      "Epoch 116/150\n",
      "35/35 [==============================] - 0s 663us/step - loss: 0.3035 - mean_absolute_error: 0.3671 - val_loss: 0.3489 - val_mean_absolute_error: 0.3998\n",
      "Epoch 117/150\n",
      "35/35 [==============================] - 0s 657us/step - loss: 0.3035 - mean_absolute_error: 0.3671 - val_loss: 0.3489 - val_mean_absolute_error: 0.3998\n",
      "Epoch 118/150\n",
      "35/35 [==============================] - 0s 736us/step - loss: 0.3036 - mean_absolute_error: 0.3672 - val_loss: 0.3487 - val_mean_absolute_error: 0.3998\n",
      "Epoch 119/150\n",
      "35/35 [==============================] - 0s 731us/step - loss: 0.3036 - mean_absolute_error: 0.3671 - val_loss: 0.3491 - val_mean_absolute_error: 0.3998\n",
      "Epoch 120/150\n",
      "35/35 [==============================] - 0s 673us/step - loss: 0.3036 - mean_absolute_error: 0.3671 - val_loss: 0.3487 - val_mean_absolute_error: 0.3998\n",
      "Epoch 121/150\n",
      "35/35 [==============================] - 0s 714us/step - loss: 0.3035 - mean_absolute_error: 0.3671 - val_loss: 0.3483 - val_mean_absolute_error: 0.3998\n",
      "Epoch 122/150\n",
      "35/35 [==============================] - 0s 714us/step - loss: 0.3036 - mean_absolute_error: 0.3672 - val_loss: 0.3477 - val_mean_absolute_error: 0.3998\n",
      "Epoch 123/150\n",
      "35/35 [==============================] - 0s 703us/step - loss: 0.3036 - mean_absolute_error: 0.3672 - val_loss: 0.3482 - val_mean_absolute_error: 0.3999\n",
      "Epoch 124/150\n",
      "35/35 [==============================] - 0s 743us/step - loss: 0.3035 - mean_absolute_error: 0.3671 - val_loss: 0.3483 - val_mean_absolute_error: 0.3998\n",
      "Epoch 125/150\n",
      "35/35 [==============================] - 0s 714us/step - loss: 0.3037 - mean_absolute_error: 0.3671 - val_loss: 0.3485 - val_mean_absolute_error: 0.3998\n",
      "Epoch 126/150\n",
      "35/35 [==============================] - 0s 657us/step - loss: 0.3036 - mean_absolute_error: 0.3672 - val_loss: 0.3480 - val_mean_absolute_error: 0.3998\n",
      "Epoch 127/150\n",
      "35/35 [==============================] - 0s 732us/step - loss: 0.3035 - mean_absolute_error: 0.3672 - val_loss: 0.3480 - val_mean_absolute_error: 0.3998\n",
      "Epoch 128/150\n",
      "35/35 [==============================] - 0s 716us/step - loss: 0.3036 - mean_absolute_error: 0.3672 - val_loss: 0.3477 - val_mean_absolute_error: 0.3998\n",
      "Epoch 129/150\n",
      "35/35 [==============================] - 0s 714us/step - loss: 0.3035 - mean_absolute_error: 0.3672 - val_loss: 0.3477 - val_mean_absolute_error: 0.3998\n",
      "Epoch 130/150\n",
      "35/35 [==============================] - 0s 686us/step - loss: 0.3035 - mean_absolute_error: 0.3673 - val_loss: 0.3478 - val_mean_absolute_error: 0.3998\n",
      "Epoch 131/150\n",
      "35/35 [==============================] - 0s 707us/step - loss: 0.3035 - mean_absolute_error: 0.3672 - val_loss: 0.3481 - val_mean_absolute_error: 0.3998\n",
      "Epoch 132/150\n",
      "35/35 [==============================] - 0s 657us/step - loss: 0.3035 - mean_absolute_error: 0.3671 - val_loss: 0.3483 - val_mean_absolute_error: 0.3997\n",
      "Epoch 133/150\n",
      "35/35 [==============================] - 0s 714us/step - loss: 0.3035 - mean_absolute_error: 0.3672 - val_loss: 0.3481 - val_mean_absolute_error: 0.3998\n",
      "Epoch 134/150\n",
      "35/35 [==============================] - 0s 686us/step - loss: 0.3036 - mean_absolute_error: 0.3672 - val_loss: 0.3473 - val_mean_absolute_error: 0.3997\n",
      "Epoch 135/150\n",
      "35/35 [==============================] - 0s 743us/step - loss: 0.3035 - mean_absolute_error: 0.3674 - val_loss: 0.3471 - val_mean_absolute_error: 0.3998\n",
      "Epoch 136/150\n",
      "35/35 [==============================] - 0s 714us/step - loss: 0.3036 - mean_absolute_error: 0.3675 - val_loss: 0.3467 - val_mean_absolute_error: 0.3998\n",
      "Epoch 137/150\n",
      "35/35 [==============================] - 0s 743us/step - loss: 0.3036 - mean_absolute_error: 0.3675 - val_loss: 0.3473 - val_mean_absolute_error: 0.3998\n",
      "Epoch 138/150\n",
      "35/35 [==============================] - 0s 713us/step - loss: 0.3034 - mean_absolute_error: 0.3673 - val_loss: 0.3472 - val_mean_absolute_error: 0.3999\n",
      "Epoch 139/150\n",
      "35/35 [==============================] - 0s 669us/step - loss: 0.3036 - mean_absolute_error: 0.3675 - val_loss: 0.3471 - val_mean_absolute_error: 0.3999\n",
      "Epoch 140/150\n",
      "35/35 [==============================] - 0s 686us/step - loss: 0.3035 - mean_absolute_error: 0.3674 - val_loss: 0.3468 - val_mean_absolute_error: 0.3999\n",
      "Epoch 141/150\n",
      "35/35 [==============================] - 0s 686us/step - loss: 0.3035 - mean_absolute_error: 0.3674 - val_loss: 0.3473 - val_mean_absolute_error: 0.3999\n",
      "Epoch 142/150\n",
      "35/35 [==============================] - 0s 672us/step - loss: 0.3036 - mean_absolute_error: 0.3675 - val_loss: 0.3472 - val_mean_absolute_error: 0.3999\n",
      "Epoch 143/150\n",
      "35/35 [==============================] - 0s 714us/step - loss: 0.3036 - mean_absolute_error: 0.3673 - val_loss: 0.3476 - val_mean_absolute_error: 0.3998\n",
      "Epoch 144/150\n",
      "35/35 [==============================] - 0s 657us/step - loss: 0.3035 - mean_absolute_error: 0.3673 - val_loss: 0.3474 - val_mean_absolute_error: 0.3999\n",
      "Epoch 145/150\n",
      "35/35 [==============================] - 0s 714us/step - loss: 0.3035 - mean_absolute_error: 0.3672 - val_loss: 0.3475 - val_mean_absolute_error: 0.3998\n",
      "Epoch 146/150\n",
      "35/35 [==============================] - 0s 686us/step - loss: 0.3036 - mean_absolute_error: 0.3673 - val_loss: 0.3474 - val_mean_absolute_error: 0.3998\n",
      "Epoch 147/150\n",
      "35/35 [==============================] - 0s 686us/step - loss: 0.3035 - mean_absolute_error: 0.3673 - val_loss: 0.3473 - val_mean_absolute_error: 0.3998\n",
      "Epoch 148/150\n"
     ]
    },
    {
     "name": "stdout",
     "output_type": "stream",
     "text": [
      "35/35 [==============================] - 0s 686us/step - loss: 0.3035 - mean_absolute_error: 0.3674 - val_loss: 0.3469 - val_mean_absolute_error: 0.3999\n",
      "Epoch 149/150\n",
      "35/35 [==============================] - 0s 711us/step - loss: 0.3036 - mean_absolute_error: 0.3676 - val_loss: 0.3466 - val_mean_absolute_error: 0.3999\n",
      "Epoch 150/150\n",
      "35/35 [==============================] - 0s 657us/step - loss: 0.3036 - mean_absolute_error: 0.3676 - val_loss: 0.3468 - val_mean_absolute_error: 0.3999\n"
     ]
    }
   ],
   "source": [
    "history = model.fit(x_train, y_train, validation_data=(x_test,y_test), epochs=150, batch_size=32)"
   ]
  },
  {
   "cell_type": "markdown",
   "metadata": {},
   "source": [
    "For better visualization, we are going to implement a function to show the training history and printing the training error as well as the absolute price prediction error (on the test split)."
   ]
  },
  {
   "cell_type": "code",
   "execution_count": 13,
   "metadata": {},
   "outputs": [
    {
     "name": "stdout",
     "output_type": "stream",
     "text": [
      "Train MAE      36755.77640533447\n",
      "Validation MAE 39989.376068115234\n"
     ]
    },
    {
     "data": {
      "image/png": "[encoded data removed]",
      "text/plain": [
       "<Figure size 1080x720 with 2 Axes>"
      ]
     },
     "metadata": {
      "needs_background": "light"
     },
     "output_type": "display_data"
    }
   ],
   "source": [
    "def plot_history(history):\n",
    "    h = history.history\n",
    "    epochs = range(len(h['loss']))\n",
    "\n",
    "    plt.subplot(121), plt.plot(epochs, h['loss'], '.-', epochs, h['val_loss'], '.-')\n",
    "    plt.grid(True), plt.xlabel('epochs'), plt.ylabel('loss')\n",
    "    plt.legend(['Train', 'Validation'])\n",
    "    plt.subplot(122), plt.plot(epochs, np.array(h['mean_absolute_error'])*1e5, '.-',\n",
    "                               epochs, np.array(h['val_mean_absolute_error'])*1e5, '.-')\n",
    "    plt.grid(True), plt.xlabel('epochs'), plt.ylabel('MAE')\n",
    "    plt.legend(['Train', 'Validation'])\n",
    "        \n",
    "    print('Train MAE     ', h['mean_absolute_error'][-1]*1e5)\n",
    "    print('Validation MAE', h['val_mean_absolute_error'][-1]*1e5)\n",
    "    \n",
    "plot_history(history)"
   ]
  },
  {
   "cell_type": "markdown",
   "metadata": {},
   "source": [
    "We see that the model makes an estimation error of almost 40 000 USD. That's quite a lot but have in mind that we have only used the living area as the parameter and a model of only one neuron. In fact, what does this model do? Let's print what the model has learnt."
   ]
  },
  {
   "cell_type": "code",
   "execution_count": 14,
   "metadata": {},
   "outputs": [
    {
     "data": {
      "text/plain": [
       "[array([[0.5469911]], dtype=float32), array([1.8041238], dtype=float32)]"
      ]
     },
     "execution_count": 14,
     "metadata": {},
     "output_type": "execute_result"
    }
   ],
   "source": [
    "model.layers[0].get_weights()"
   ]
  },
  {
   "cell_type": "markdown",
   "metadata": {},
   "source": [
    "Let's now run the model to predict the value of a random house."
   ]
  },
  {
   "cell_type": "code",
   "execution_count": 15,
   "metadata": {},
   "outputs": [
    {
     "name": "stdout",
     "output_type": "stream",
     "text": [
      "[[1.1569985]] 1.29\n"
     ]
    }
   ],
   "source": [
    "idx = 50\n",
    "pred = model.predict(x_test.iloc[[idx]])\n",
    "print(pred, y_test[idx])"
   ]
  },
  {
   "cell_type": "markdown",
   "metadata": {},
   "source": [
    "### Let's Improve the Model\n",
    "\n",
    "Given that the model is extremely simple, the performance is not that bad. But we shall be able to do better. Therefore, let's try to use more attributes and a bigger network.\n",
    "\n",
    "First, we are going to use (as inputs) more attributes (or features) for price estimation. Let's consider, for instance, the following ones:\n",
    "* **OverallQual**\n",
    " * Rates the overall material and finish of the house\n",
    "* **GrLivArea**\n",
    " * Above grade (ground) living area square feet\n",
    "* **GarageCars**\n",
    " * Size of garage in car capacity\n",
    "* **FullBath**\n",
    " * Full bathrooms above grade\n",
    "* **YearBuilt**\n",
    " * Original construction date"
   ]
  },
  {
   "cell_type": "markdown",
   "metadata": {},
   "source": [
    "#### Data Preparation\n",
    "\n",
    "As we did before, we are going to prepare the data but this time with all 5 attributes (features). For simplicity, we are going to use the `StandardScaler` from `sklearn`. But don't worry, it does exactly the same thing as we did before, it's just easier to use for multi-dimensional data :-)"
   ]
  },
  {
   "cell_type": "code",
   "execution_count": 16,
   "metadata": {},
   "outputs": [],
   "source": [
    "features = ['SalePrice','OverallQual', 'GrLivArea', 'GarageCars', 'FullBath', 'YearBuilt']\n",
    "data = dataset[features]\n",
    "\n",
    "# Filling nan with the mean of the column:\n",
    "data = data.fillna(data.mean())\n",
    "\n",
    "# Extract input values and normalize\n",
    "x = data[features[1:]]\n",
    "scale = StandardScaler()\n",
    "x = scale.fit_transform(x)\n",
    "\n",
    "# Extract output values (prices) and normalize\n",
    "y = data[features[0]].values\n",
    "y = y/100000\n",
    "\n",
    "# Split into 75% for train and 25% for test\n",
    "x_train, x_test, y_train, y_test = train_test_split(x, y, test_size=0.25)"
   ]
  },
  {
   "cell_type": "markdown",
   "metadata": {},
   "source": [
    "#### Building the Network\n",
    "\n",
    "We are going to use the same 1-layer network. But remember, since we have now 5 features as inputs, the network (neuron in this case) makes a linear combination of all of them and adds the bias. Therefore, we have now 6 learnable (trainable) parameters, i.e. 5 weights plus bias."
   ]
  },
  {
   "cell_type": "code",
   "execution_count": 17,
   "metadata": {},
   "outputs": [
    {
     "name": "stdout",
     "output_type": "stream",
     "text": [
      "Model: \"sequential_1\"\n",
      "_________________________________________________________________\n",
      "Layer (type)                 Output Shape              Param #   \n",
      "=================================================================\n",
      "dense_1 (Dense)              (None, 1)                 6         \n",
      "=================================================================\n",
      "Total params: 6\n",
      "Trainable params: 6\n",
      "Non-trainable params: 0\n",
      "_________________________________________________________________\n"
     ]
    }
   ],
   "source": [
    "model = Sequential()\n",
    "model.add(Dense(1, input_dim=x.shape[1], activation='relu'))\n",
    "model.compile(optimizer ='adam', loss = 'mean_squared_error',  metrics =[metrics.mae])\n",
    "model.summary()"
   ]
  },
  {
   "cell_type": "markdown",
   "metadata": {},
   "source": [
    "#### Training the Network\n",
    "\n",
    "We changed the data but the interface stays the same. Running the training is exactly the same as before!"
   ]
  },
  {
   "cell_type": "code",
   "execution_count": 18,
   "metadata": {},
   "outputs": [
    {
     "name": "stdout",
     "output_type": "stream",
     "text": [
      "Train MAE      26056.119799613953\n",
      "Validation MAE 27349.480986595154\n"
     ]
    },
    {
     "data": {
      "image/png": "[encoded data removed]",
      "text/plain": [
       "<Figure size 1080x720 with 2 Axes>"
      ]
     },
     "metadata": {
      "needs_background": "light"
     },
     "output_type": "display_data"
    }
   ],
   "source": [
    "history = model.fit(x_train, y_train, validation_data=(x_test,y_test), epochs=150, batch_size=32, verbose=0)\n",
    "plot_history(history)"
   ]
  },
  {
   "cell_type": "markdown",
   "metadata": {},
   "source": [
    "Let's also see what the network has learnt about the feature relevance."
   ]
  },
  {
   "cell_type": "code",
   "execution_count": 19,
   "metadata": {},
   "outputs": [
    {
     "name": "stdout",
     "output_type": "stream",
     "text": [
      "['OverallQual', 'GrLivArea', 'GarageCars', 'FullBath', 'YearBuilt']\n",
      "[array([[ 0.32690158],\n",
      "       [ 0.32420683],\n",
      "       [ 0.12161174],\n",
      "       [-0.05362175],\n",
      "       [ 0.12513442]], dtype=float32), array([1.8047568], dtype=float32)]\n"
     ]
    }
   ],
   "source": [
    "print(features[1:])\n",
    "print(model.layers[0].get_weights())"
   ]
  },
  {
   "cell_type": "markdown",
   "metadata": {},
   "source": [
    "### Keras Functional API\n",
    "\n",
    "Besides the Sequential API that we have been using so far, Keras also offers a different way to define the models. The Functional API is in general more verstile and it allows for branching (which the Sequential does not). In order to use the Functional API, we need to make two more imports (note that we don't need to import the Sequential anymore)."
   ]
  },
  {
   "cell_type": "code",
   "execution_count": 20,
   "metadata": {},
   "outputs": [],
   "source": [
    "from tensorflow.keras.layers import Input\n",
    "from tensorflow.keras import Model"
   ]
  },
  {
   "cell_type": "markdown",
   "metadata": {},
   "source": [
    "#### Deep Neural Network\n",
    "\n",
    "Let's now build our fisr deep neural network (DNN). Still a very simple one but consisting of 2 layers."
   ]
  },
  {
   "cell_type": "code",
   "execution_count": 21,
   "metadata": {},
   "outputs": [
    {
     "name": "stdout",
     "output_type": "stream",
     "text": [
      "Model: \"functional_1\"\n",
      "_________________________________________________________________\n",
      "Layer (type)                 Output Shape              Param #   \n",
      "=================================================================\n",
      "input_1 (InputLayer)         [(None, 5)]               0         \n",
      "_________________________________________________________________\n",
      "dense_2 (Dense)              (None, 5)                 30        \n",
      "_________________________________________________________________\n",
      "dense_3 (Dense)              (None, 1)                 6         \n",
      "=================================================================\n",
      "Total params: 36\n",
      "Trainable params: 36\n",
      "Non-trainable params: 0\n",
      "_________________________________________________________________\n"
     ]
    }
   ],
   "source": [
    "inputs = Input(shape=x.shape[1])\n",
    "outputs = Dense(5, activation='relu')(inputs)\n",
    "outputs = Dense(1, activation='linear')(outputs)\n",
    "model = Model(inputs, outputs)\n",
    "\n",
    "model.compile(optimizer ='adam', loss ='mean_squared_error', metrics =[metrics.mae])\n",
    "model.summary()"
   ]
  },
  {
   "cell_type": "code",
   "execution_count": 22,
   "metadata": {},
   "outputs": [
    {
     "name": "stdout",
     "output_type": "stream",
     "text": [
      "Train MAE      24445.098638534546\n",
      "Validation MAE 26767.167448997498\n"
     ]
    },
    {
     "data": {
      "image/png": "[encoded data removed]",
      "text/plain": [
       "<Figure size 1080x720 with 2 Axes>"
      ]
     },
     "metadata": {
      "needs_background": "light"
     },
     "output_type": "display_data"
    }
   ],
   "source": [
    "history = model.fit(x_train, y_train, validation_data=(x_test, y_test), epochs=150, batch_size=32, verbose=0)\n",
    "plot_history(history)"
   ]
  },
  {
   "cell_type": "code",
   "execution_count": null,
   "metadata": {},
   "outputs": [],
   "source": []
  }
 ],
 "metadata": {
  "kernelspec": {
   "display_name": "Python 3 (ipykernel)",
   "language": "python",
   "name": "python3"
  },
  "language_info": {
   "codemirror_mode": {
    "name": "ipython",
    "version": 3
   },
   "file_extension": ".py",
   "mimetype": "text/x-python",
   "name": "python",
   "nbconvert_exporter": "python",
   "pygments_lexer": "ipython3",
   "version": "3.8.12"
  }
 },
 "nbformat": 4,
 "nbformat_minor": 4
}
